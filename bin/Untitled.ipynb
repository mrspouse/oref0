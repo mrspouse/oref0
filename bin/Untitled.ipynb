{
 "cells": [
  {
   "cell_type": "code",
   "execution_count": null,
   "metadata": {},
   "outputs": [],
   "source": [
    "import argparse\n",
    "import requests\n",
    "import datetime\n",
    "import os, errno\n",
    "import logging\n",
    "from subprocess import call\n",
    "import shutil\n"
   ]
  },
  {
   "cell_type": "code",
   "execution_count": null,
   "metadata": {},
   "outputs": [],
   "source": [
    "DIR = '../myopenaps'\n",
    "NIGHTSCOUT_HOST = 'https://ns-drop-gd.herokuapp.com'\n",
    "START_DATE = datetime.datetime.today() - datetime.timedelta(days=17)\n",
    "END_DATE = datetime.datetime.today()\n",
    "NUMBER_OF_RUNS = 1\n",
    "EXPORT_EXCEL = None\n",
    "TERMINAL_LOGGING = True\n",
    "RECOMMENDS_REPORT = True\n",
    "breakpoint()"
   ]
  },
  {
   "cell_type": "code",
   "execution_count": null,
   "metadata": {},
   "outputs": [],
   "source": [
    "def get_input_arguments():\n",
    "    parser = argparse.ArgumentParser(description='Autotune')\n",
    "    \n",
    "    # Required\n",
    "    # NOTE: As the code runs right now, this directory needs to exist and as well as the subfolders: autotune, settings\n",
    "    parser.add_argument('--dir',\n",
    "                        '-d',\n",
    "                        type=str,\n",
    "                        required=False,\n",
    "                        help='(--dir=<OpenAPS Directory>)')        \n",
    "    parser.add_argument('--ns-host',\n",
    "                        '-n',\n",
    "                        type=str,\n",
    "                        required=False,\n",
    "                        metavar='NIGHTSCOUT_HOST',\n",
    "                        help='(--ns-host=<NIGHTSCOUT SITE URL)')\n",
    "    parser.add_argument('--start-date',\n",
    "                        '-s',\n",
    "                        type=lambda d: datetime.datetime.strptime(d, '%Y-%m-%d'),\n",
    "                        required=False,\n",
    "                        help='(--start-date=<YYYY-MM-DD>)')\n",
    "    # Optional\n",
    "    parser.add_argument('--end-date',\n",
    "                        '-e',\n",
    "                        type=lambda d: datetime.datetime.strptime(d, '%Y-%m-%d'),\n",
    "                        help='(--end-date=<YYYY-MM-DD>) ')\n",
    "    parser.add_argument('--runs',\n",
    "                        '-r',\n",
    "                        type=int,\n",
    "                        metavar='NUMBER_OF_RUNS',\n",
    "                        help='(--runs=<integer, number of runs desired>)')\n",
    "    parser.add_argument('--xlsx',\n",
    "                        '-x',\n",
    "                        type=str,\n",
    "                        metavar='EXPORT_EXCEL',\n",
    "                        help='(--xlsx=<filenameofexcel>)')                \n",
    "    parser.add_argument('--log',\n",
    "                        '-l',\n",
    "                        type=str,\n",
    "                        metavar='TERMINAL_LOGGING',\n",
    "                        help='(--log <true/false(true)>)')\n",
    "    \n",
    "    return parser.parse_args()\n"
   ]
  },
  {
   "cell_type": "code",
   "execution_count": null,
   "metadata": {},
   "outputs": [],
   "source": [
    "%%debug\n",
    "\n",
    "def assign_args_to_variables(args):\n",
    "    # TODO: Input checking.\n",
    "    \n",
    "    global DIR, NIGHTSCOUT_HOST, START_DATE, END_DATE, NUMBER_OF_RUNS, \\\n",
    "           EXPORT_EXCEL, TERMINAL_LOGGING, RECOMMENDS_REPORT\n",
    "    \n",
    "    # On Unix and Windows, return the argument with an initial component of\n",
    "    # ~ or ~user replaced by that user's home directory.\n",
    "    # DIR = os.path.expanduser(args.dir)\n",
    "    \n",
    "    # NIGHTSCOUT_HOST = args.ns_host\n",
    "\n",
    "    # START_DATE = args.start_date\n",
    "    \n",
    "    if args.end_date is not None:\n",
    "        END_DATE = args.end_date\n",
    "        \n",
    "    if args.runs is not None:\n",
    "        NUMBER_OF_RUNS = args.runs\n",
    "        \n",
    "    if args.xlsx is not None:\n",
    "        EXPORT_EXCEL = args.xlsx\n",
    "    \n",
    "    if args.log is not None:\n",
    "        RECOMMENDS_REPORT = args.logsa"
   ]
  },
  {
   "cell_type": "code",
   "execution_count": null,
   "metadata": {},
   "outputs": [],
   "source": [
    "def get_nightscout_profile(nightscout_host):\n",
    "    #TODO: Add ability to use API secret for Nightscout.\n",
    "    autotune_directory = os.path.join(DIR, 'autotune')\n",
    "    res = requests.get(nightscout_host + '/api/v1/profile.json')\n",
    "    with open(os.path.join(autotune_directory, 'nightscout.profile.json'), 'w') as f:  # noqa: F821\n",
    "        f.write(res.text)"
   ]
  },
  {
   "cell_type": "code",
   "execution_count": null,
   "metadata": {},
   "outputs": [],
   "source": [
    "print(autotune_directory.text)"
   ]
  },
  {
   "cell_type": "code",
   "execution_count": null,
   "metadata": {},
   "outputs": [],
   "source": [
    "def get_openaps_profile(directory):\n",
    "    shutil.copy(os.path.join(directory, 'settings', 'pumpprofile.json'), os.path.join(directory, 'autotune', 'profile.pump.json'))\n",
    "    \n",
    "    # If a previous valid settings/autotune.json exists, use that; otherwise start from settings/profile.json\n",
    "    \n",
    "    # This allows manual users to be able to run autotune by simply creating a settings/pumpprofile.json file.\n",
    "    # cp -up settings/pumpprofile.json settings/profile.json\n",
    "    shutil.copy(os.path.join(directory, 'settings', 'pumpprofile.json'), os.path.join(directory, 'settings', 'profile.json'))\n",
    "    shutil.copy(os.path.join(directory, 'settings', 'profile.json'), os.path.join(directory, 'settings', 'autotune.json'))\n",
    "    \n",
    "    # cp settings/autotune.json autotune/profile.json\n",
    "    shutil.copy(os.path.join(directory, 'settings', 'autotune.json'), os.path.join(directory, 'autotune', 'profile.json'))\n"
   ]
  },
  {
   "cell_type": "code",
   "execution_count": null,
   "metadata": {},
   "outputs": [],
   "source": []
  }
 ],
 "metadata": {
  "kernelspec": {
   "display_name": "Python 3",
   "language": "python",
   "name": "python3"
  },
  "language_info": {
   "codemirror_mode": {
    "name": "ipython",
    "version": 3
   },
   "file_extension": ".py",
   "mimetype": "text/x-python",
   "name": "python",
   "nbconvert_exporter": "python",
   "pygments_lexer": "ipython3",
   "version": "3.8.2"
  }
 },
 "nbformat": 4,
 "nbformat_minor": 4
}
